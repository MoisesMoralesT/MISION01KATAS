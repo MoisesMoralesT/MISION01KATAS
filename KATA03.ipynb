{
 "cells": [
  {
   "cell_type": "markdown",
   "metadata": {},
   "source": [
    "Para este ejercicio, escribirás una lógica condicional que imprima una advertencia si un asteroide se acerca a la Tierra demasiado rápido. La velocidad del asteroide varía dependiendo de lo cerca que esté del sol, y cualquier velocidad superior a 25 kilómetros por segundo (km/s) merece una advertencia.\n",
    "\n",
    "Un asteroide se acerca, y viaja a una velocidad de 49 km/s."
   ]
  },
  {
   "cell_type": "code",
   "execution_count": 1,
   "metadata": {},
   "outputs": [
    {
     "name": "stdout",
     "output_type": "stream",
     "text": [
      "¡Asteroide aproximándose!\n"
     ]
    }
   ],
   "source": [
    "VelAsteroide = 49\n",
    "if VelAsteroide > 25:\n",
    "    print('¡Asteroide aproximándose!')\n",
    "else:\n",
    "    print('Todo tranqui, que no cunda el pánico')"
   ]
  },
  {
   "cell_type": "markdown",
   "metadata": {},
   "source": [
    "Si un asteroide entra en la atmósfera de la Tierra a una velocidad mayor o igual a 20 km/s, a veces produce un rayo de luz que se puede ver desde la Tierra. Escribe la lógica condicional que usa declaraciones if, else, y elif para alertar a las personas de todo el mundo que deben buscar un asteroide en el cielo. ¡Hay uno que se dirige a la tierra ahora a una velocidad de 19 km/s!"
   ]
  },
  {
   "cell_type": "code",
   "execution_count": 6,
   "metadata": {},
   "outputs": [
    {
     "name": "stdout",
     "output_type": "stream",
     "text": [
      "Es una mosca\n"
     ]
    }
   ],
   "source": [
    "VelAsteroide = 19\n",
    "if VelAsteroide >= 20:\n",
    "    print('Es súperman?, ¡No es un asteroide!')\n",
    "elif VelAsteroide == 20:\n",
    "    print('Es súperman?, ¡No es un asteroide!')\n",
    "else:\n",
    "    print('Es una mosca')"
   ]
  },
  {
   "cell_type": "markdown",
   "metadata": {},
   "source": [
    "*Los asteroides de menos de 25 metros en su dimensión más grande probablemente se quemarán a medida que entren en la atmósfera de la Tierra.\n",
    "\n",
    "Si una pieza de un asteroide que es más grande que 25 metros pero más pequeña que 1000 metros golpeara la Tierra, causaría mucho daño.\n",
    "También discutimos en el ejercicio anterior que:\n",
    "\n",
    "La velocidad del asteroide varía en función de lo cerca que esté del sol, y cualquier velocidad superior a 25 kilómetros por segundo (km/s) merece una advertencia.\n",
    "Si un asteroide entra en la atmósfera de la Tierra a una velocidad mayor o igual a 20 km/s, a veces produce un rayo de luz que se puede ver desde la Tierra.\n",
    "Usando toda esta información, escribe un programa que emita la advertencia o información correcta a la gente de la Tierra, según la velocidad y el tamaño de un asteroide. Utiliza instrucciones if, else, y elif, así como los operadores and y or"
   ]
  },
  {
   "cell_type": "code",
   "execution_count": 7,
   "metadata": {},
   "outputs": [
    {
     "name": "stdout",
     "output_type": "stream",
     "text": [
      "Ahí viene un asteroide regrande!!\n"
     ]
    }
   ],
   "source": [
    "VelAsteroide = 50\n",
    "TamAsteroide = 80\n",
    "if VelAsteroide > 25 and TamAsteroide > 25:\n",
    "    print('Ahí viene un asteroide regrande!!')\n",
    "elif VelAsteroide >= 20:\n",
    "    print('Es super man!!')\n",
    "elif TamAsteroide < 25:\n",
    "    print('No pasa nada oigaaaa')\n",
    "else:\n",
    "    print('No pasa nada oigaaaa')"
   ]
  }
 ],
 "metadata": {
  "interpreter": {
   "hash": "385eaa7e2a443065eb1c1da93ef36baa9d28f33964fa35e24b434c55720d3e34"
  },
  "kernelspec": {
   "display_name": "Python 3.10.2 64-bit",
   "language": "python",
   "name": "python3"
  },
  "language_info": {
   "codemirror_mode": {
    "name": "ipython",
    "version": 3
   },
   "file_extension": ".py",
   "mimetype": "text/x-python",
   "name": "python",
   "nbconvert_exporter": "python",
   "pygments_lexer": "ipython3",
   "version": "3.10.2"
  },
  "orig_nbformat": 4
 },
 "nbformat": 4,
 "nbformat_minor": 2
}
